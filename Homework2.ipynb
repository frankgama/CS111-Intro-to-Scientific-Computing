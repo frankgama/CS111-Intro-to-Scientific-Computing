{
  "nbformat": 4,
  "nbformat_minor": 0,
  "metadata": {
    "colab": {
      "provenance": [],
      "authorship_tag": "ABX9TyNpL1Br7ZrE0H1CxnPewS2p",
      "include_colab_link": true
    },
    "kernelspec": {
      "name": "python3",
      "display_name": "Python 3"
    },
    "language_info": {
      "name": "python"
    }
  },
  "cells": [
    {
      "cell_type": "markdown",
      "metadata": {
        "id": "view-in-github",
        "colab_type": "text"
      },
      "source": [
        "<a href=\"https://colab.research.google.com/github/frankgama/CS111-Intro-to-Scientific-Computing/blob/main/Homework2.ipynb\" target=\"_parent\"><img src=\"https://colab.research.google.com/assets/colab-badge.svg\" alt=\"Open In Colab\"/></a>"
      ]
    },
    {
      "cell_type": "code",
      "execution_count": 8,
      "metadata": {
        "colab": {
          "base_uri": "https://localhost:8080/"
        },
        "id": "Vt4bw7c_fwvh",
        "outputId": "1d879250-a0f9-4a78-c935-ad2616175ed1"
      },
      "outputs": [
        {
          "output_type": "stream",
          "name": "stdout",
          "text": [
            "Drive already mounted at /content/drive/; to attempt to forcibly remount, call drive.mount(\"/content/drive/\", force_remount=True).\n"
          ]
        }
      ],
      "source": [
        "#Homework 2 COMPSCI 111 UCSB Summer 2025, Frank Gama\n",
        "#I confirm that I did not use ChatGPT\n",
        "#or codes from the web or from past years’ assignments and that the work\n",
        "#I submit is my own and my own only.\n",
        "\n",
        "#I have been using Google colab since this is the easiest for me at the moment\n",
        "\n",
        "import os\n",
        "import time\n",
        "import math\n",
        "import numpy as np\n",
        "import numpy.linalg as npla\n",
        "import scipy\n",
        "from scipy import linalg as spla\n",
        "import scipy.sparse\n",
        "import scipy.sparse.linalg\n",
        "from scipy import integrate\n",
        "import matplotlib.pyplot as plt\n",
        "from matplotlib import cm\n",
        "from mpl_toolkits.mplot3d import axes3d\n",
        "%matplotlib inline\n",
        "np.set_printoptions(precision = 4)\n",
        "\n",
        "#I have to connect my colab to my drive every time I make a project\n",
        "from google.colab import drive\n",
        "drive.mount('/content/drive/')\n",
        "\n",
        "# Now that I am connected, I need to be able to access the CS111 File and its\n",
        "# contents\n",
        "import os, sys, pathlib\n",
        "PKG_NAME = \"CS111\"\n",
        "PKG_DIR = f\"/content/drive/MyDrive/{PKG_NAME}\"\n",
        "PARENT = os.path.dirname(PKG_DIR)\n",
        "\n",
        "\n",
        "\n",
        "\n",
        "#this makes sure I connected correctly and that my kernel has access to my files\n",
        "if PARENT not in sys.path:\n",
        "    sys.path.insert(0, PARENT)\n",
        "\n",
        "import cs111.LU as LU\n",
        "\n",
        "\n",
        "#This homework deals with inverse matrices and permutations\n",
        "\n",
        "#the first function will take a matrix, A and compute it's inverse (if it exists)\n",
        "\n",
        "\n",
        "\n",
        "\n"
      ]
    },
    {
      "cell_type": "code",
      "source": [
        "def computeInverse(A):\n",
        "  #A an nxn matrix\n",
        "  #we know that PA = PLU\n",
        "  #to find the inverse, we will do so indirectly by doing a couple of transformations\n",
        "  # where Ly = b[P]. This meas the lower triangular times some vector y, will\n",
        "  #give us a vector b, but with the applied permutation.\n",
        "  #the permutaion will ensure that we can perform the LU factorization and also\n",
        "  #give us a diagonalized matrix.\n",
        "  #we then know that Ux = y, where x is a column vector of the inverse matrix\n",
        "  #we then solve for x, add it to a dummy matrix, and repeat until we have\n",
        "  #the inverse matrix.\n",
        "  #it is possible that P is simply the identity matrix, but either way,\n",
        "  #we need to apply it.\n",
        "  L, U, P = LU.LUfactor(A)\n",
        "  Ainversed = np.zeros_like(A, dtype = float)\n",
        "\n",
        "  n = len(A)\n",
        "\n",
        "  for i in range(n):\n",
        "    #we make an array of size n with zeros\n",
        "    e_j = np.zeros(n)\n",
        "    #we put 1 at the ith position as we will solve for an element of I\n",
        "    e_j[i] = 1\n",
        "    #apply the permutation\n",
        "    b = e_j[P]\n",
        "    #solve for y\n",
        "    y = LU.Lsolve(L,b, unit_diag = True)\n",
        "    #knowing y, solve for x\n",
        "    x_j = LU.Usolve(U,y)\n",
        "    #add x into our dummy matrix as a vector, repeating until finished\n",
        "    Ainversed[:, i] = x_j\n",
        "\n",
        "  return Ainversed\n",
        "\n",
        "\n"
      ],
      "metadata": {
        "collapsed": true,
        "id": "bQR3hk82tVxX"
      },
      "execution_count": 9,
      "outputs": []
    },
    {
      "cell_type": "code",
      "source": [
        "#test code on given matrix showing matrix, inverse and checking it works\n",
        "M = np.array([[1,4,5],\n",
        "              [4,17,26],\n",
        "              [3,18,30]\n",
        "              ],dtype=float)\n",
        "Mverse = computeInverse(M)\n",
        "print(M)\n",
        "print(Mverse)\n",
        "eyedentity = M @ Mverse\n",
        "print()\n",
        "\n",
        "\n",
        "print(np.round(eyedentity,10))\n",
        "\n",
        "np.linalg.inv(M)\n",
        "\n"
      ],
      "metadata": {
        "colab": {
          "base_uri": "https://localhost:8080/"
        },
        "id": "Yl3Ij5n5t6TY",
        "outputId": "a5512be9-ea1e-42c4-a636-f79becd83957"
      },
      "execution_count": 10,
      "outputs": [
        {
          "output_type": "stream",
          "name": "stdout",
          "text": [
            "[[ 1.  4.  5.]\n",
            " [ 4. 17. 26.]\n",
            " [ 3. 18. 30.]]\n",
            "[[-2.      1.4286 -0.9048]\n",
            " [ 2.     -0.7143  0.2857]\n",
            " [-1.      0.2857 -0.0476]]\n",
            "\n",
            "[[ 1. -0.  0.]\n",
            " [ 0.  1.  0.]\n",
            " [ 0. -0.  1.]]\n"
          ]
        },
        {
          "output_type": "execute_result",
          "data": {
            "text/plain": [
              "array([[-2.    ,  1.4286, -0.9048],\n",
              "       [ 2.    , -0.7143,  0.2857],\n",
              "       [-1.    ,  0.2857, -0.0476]])"
            ]
          },
          "metadata": {},
          "execution_count": 10
        }
      ]
    },
    {
      "cell_type": "code",
      "source": [
        "#problem 2\n",
        "#we are tasked with finding a vector v such that when applied to A, we get\n",
        "#A[v,:] == A @ P\n",
        "# this is trivial and we we can take the position of the 1 in the row, as the\n",
        "#position the row will move to in the permutation\n",
        "#so we get\n",
        "\n",
        "v=[1,3,0,2]\n",
        "\n",
        "#similarly, we are tasked with finding a w such that A[:,w] == P @ M\n",
        "#here we look at the columns and the position of the 1 is the permutaion\n",
        "\n",
        "#so we get\n",
        "\n",
        "w = [2,0,3,1]\n"
      ],
      "metadata": {
        "id": "shrhfIsVumkJ"
      },
      "execution_count": 11,
      "outputs": []
    },
    {
      "cell_type": "code",
      "source": [
        "w = [2,0,3,1]\n",
        "v=[1,3,0,2]\n",
        "P = np.array([[0,1,0,0],\n",
        "              [0,0,0,1],\n",
        "              [1,0,0,0],\n",
        "              [0,0,1,0]])\n",
        "#random 4x4 generator\n",
        "A = np.arange(16).reshape(4,4)\n",
        "\n",
        "print(A[v,:] == P @ A)\n",
        "print(A[:,w]== A @ P)"
      ],
      "metadata": {
        "colab": {
          "base_uri": "https://localhost:8080/"
        },
        "id": "ylS2H7zTuoCr",
        "outputId": "9414adc2-e184-4879-d2d0-ebe0ff6eb163"
      },
      "execution_count": 12,
      "outputs": [
        {
          "output_type": "stream",
          "name": "stdout",
          "text": [
            "[[ True  True  True  True]\n",
            " [ True  True  True  True]\n",
            " [ True  True  True  True]\n",
            " [ True  True  True  True]]\n",
            "[[ True  True  True  True]\n",
            " [ True  True  True  True]\n",
            " [ True  True  True  True]\n",
            " [ True  True  True  True]]\n"
          ]
        }
      ]
    },
    {
      "cell_type": "code",
      "source": [],
      "metadata": {
        "id": "Yl_4z-Ho-B8-"
      },
      "execution_count": 12,
      "outputs": []
    }
  ]
}
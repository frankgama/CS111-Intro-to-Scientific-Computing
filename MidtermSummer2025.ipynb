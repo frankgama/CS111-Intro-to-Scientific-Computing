{
  "nbformat": 4,
  "nbformat_minor": 0,
  "metadata": {
    "colab": {
      "provenance": [],
      "authorship_tag": "ABX9TyMmPhu2AwZxlPmtBd5Fv8W5",
      "include_colab_link": true
    },
    "kernelspec": {
      "name": "python3",
      "display_name": "Python 3"
    },
    "language_info": {
      "name": "python"
    }
  },
  "cells": [
    {
      "cell_type": "markdown",
      "metadata": {
        "id": "view-in-github",
        "colab_type": "text"
      },
      "source": [
        "<a href=\"https://colab.research.google.com/github/frankgama/CS111-Intro-to-Scientific-Computing/blob/main/MidtermSummer2025.ipynb\" target=\"_parent\"><img src=\"https://colab.research.google.com/assets/colab-badge.svg\" alt=\"Open In Colab\"/></a>"
      ]
    },
    {
      "cell_type": "code",
      "execution_count": null,
      "metadata": {
        "colab": {
          "base_uri": "https://localhost:8080/"
        },
        "id": "9fW8rJsz363-",
        "outputId": "cf67d157-ad84-4e86-9ec3-aefc5650982f"
      },
      "outputs": [
        {
          "output_type": "stream",
          "name": "stdout",
          "text": [
            "Drive already mounted at /content/drive/; to attempt to forcibly remount, call drive.mount(\"/content/drive/\", force_remount=True).\n"
          ]
        }
      ],
      "source": [
        "#Midterm COMPSCI 111 UCSB Summer 2025, Frank Gama\n",
        "#I confirm that I did not use ChatGPT\n",
        "#or codes from the web or from past years’ assignments and that the work\n",
        "#I submit is my own and my own only.\n",
        "\n",
        "#I have been using Google colab since this is the easiest for me at the moment\n",
        "\n",
        "import os\n",
        "import time\n",
        "import math\n",
        "import numpy as np\n",
        "import numpy.linalg as npla\n",
        "import scipy\n",
        "from scipy import linalg as spla\n",
        "import scipy.sparse\n",
        "import scipy.sparse.linalg\n",
        "from scipy import integrate\n",
        "import matplotlib.pyplot as plt\n",
        "from matplotlib import cm\n",
        "from mpl_toolkits.mplot3d import axes3d\n",
        "%matplotlib inline\n",
        "np.set_printoptions(precision = 4)\n",
        "\n",
        "#I have to connect my colab to my drive every time I make a project\n",
        "from google.colab import drive\n",
        "drive.mount('/content/drive/')\n",
        "\n",
        "# Now that I am connected, I need to be able to access the CS111 File and its\n",
        "# contents\n",
        "import os, sys, pathlib\n",
        "PKG_NAME = \"CS111\"\n",
        "PKG_DIR = f\"/content/drive/MyDrive/{PKG_NAME}\"\n",
        "PARENT = os.path.dirname(PKG_DIR)\n",
        "\n",
        "\n",
        "\n",
        "\n",
        "#this makes sure I connected correctly and that my kernel has access to my files\n",
        "if PARENT not in sys.path:\n",
        "    sys.path.insert(0, PARENT)\n",
        "\n",
        "import cs111.LU as LU\n"
      ]
    },
    {
      "cell_type": "code",
      "source": [
        "#1.1 Show cs111.LUfactor(A) works for the transpose of A for Ax = B.\n",
        "#We know that we get A[p,:] = LU, or more generally, PA = LU. We know that\n",
        "#P^-1 = P^T. so we can rewrite A = P^-1LU. This just means that if we take the\n",
        "#the permutation and apply it to L and U we get back the original matrix A.\n",
        "#now we that in (AB)^T = B^T A^T, so we apply this to and get\n",
        "# A^T = U^T L^T P. Thus we are able to use our functions without changing much.\n"
      ],
      "metadata": {
        "id": "dwUWEL3u4AQQ"
      },
      "execution_count": null,
      "outputs": []
    },
    {
      "cell_type": "code",
      "source": [
        "def LUsolve_withTranspose(A, b):\n",
        "\n",
        "#get L, U and P\n",
        "  L, U, P = LU.LUfactor(A, pivoting = True)\n",
        "\n",
        "  #solve for U^T y = b\n",
        "  y = LU.Lsolve(L, b)\n",
        "\n",
        "  #solve for x = L^T x = y\n",
        "  x = LU.Usolve(U, y)\n",
        "\n",
        "  a = np.zeros_like(x)\n",
        "\n",
        "  x[P] = a\n",
        "\n",
        "  rel_res = np.linalg.norm(b - A.T @ a)/ np.linalg.norm(b)\n",
        "\n",
        "  return a, rel_res\n",
        "\n"
      ],
      "metadata": {
        "id": "JrsP4IMz_Qla"
      },
      "execution_count": null,
      "outputs": []
    },
    {
      "cell_type": "code",
      "source": [
        "rng = np.random.default_rng(12345)\n",
        "A5 = rng.standard_normal((5, 5))\n",
        "A5 += 5.0 * np.eye(5)\n",
        "b5 = rng.standard_normal(5)\n",
        "\n",
        "x5, rel_res5 = LUsolve_withTranspose(A5, b5)\n",
        "print(\"\\n5x5 Solution:\", x5)\n",
        "print(\"5x5 Relative residual:\", rel_res5)\n",
        "\n",
        "\n",
        "xref5 = npla.solve(A5.T, b5)\n",
        "rel_err5 = npla.norm(x5 - xref5) / npla.norm(xref5)\n",
        "print(\"5x5 Relative error vs NumPy:\", rel_err5)"
      ],
      "metadata": {
        "colab": {
          "base_uri": "https://localhost:8080/"
        },
        "id": "f1cPFfynBHPo",
        "outputId": "cd05b992-d188-4b97-a24e-4277965c775f"
      },
      "execution_count": null,
      "outputs": [
        {
          "output_type": "stream",
          "name": "stdout",
          "text": [
            "\n",
            "5x5 Solution: [0. 0. 0. 0. 0.]\n",
            "5x5 Relative residual: 1.0\n",
            "5x5 Relative error vs NumPy: 1.0\n"
          ]
        }
      ]
    },
    {
      "cell_type": "code",
      "source": [
        "#1.2\n",
        "# exact solution\n",
        "x_star = np.array([0., 1.])\n",
        "\n",
        "# loop over eps values\n",
        "for k in range(1, 17):\n",
        "    eps = 10.0**(-k)\n",
        "    A = np.array([[1., eps],\n",
        "                  [1., 1.]])\n",
        "    b = np.array([1.+eps, 2.])\n",
        "\n",
        "    # with pivoting\n",
        "    x_piv, relres_piv = LU.LUsolve(A, b, pivoting=True)\n",
        "    err_piv = npla.norm(x_piv - x_star)\n",
        "\n",
        "    # without pivoting\n",
        "    x_nopiv, relres_nopiv = LU.LUsolve(A, b, pivoting=False)\n",
        "    err_nopiv = npla.norm(x_nopiv - x_star)\n",
        "\n",
        "    print(f\"eps = 1e-{k}\")\n",
        "    print(\" with pivoting:   x =\", x_piv, \" error =\", err_piv, \" relres =\", relres_piv)\n",
        "    print(\" no pivoting:     x =\", x_nopiv, \" error =\", err_nopiv, \" relres =\", relres_nopiv)\n",
        "\n",
        "    #our results from LU are approximations which"
      ],
      "metadata": {
        "colab": {
          "base_uri": "https://localhost:8080/"
        },
        "id": "j2DGewkAD4lt",
        "outputId": "8088d32a-7c65-48a9-9952-fa3568f52f37"
      },
      "execution_count": null,
      "outputs": [
        {
          "output_type": "stream",
          "name": "stdout",
          "text": [
            "eps = 1e-1\n",
            " with pivoting:   x = [1. 1.]  error = 1.0  relres = 0.0\n",
            " no pivoting:     x = [1. 1.]  error = 1.0  relres = 0.0\n",
            "eps = 1e-2\n",
            " with pivoting:   x = [1. 1.]  error = 1.0  relres = 0.0\n",
            " no pivoting:     x = [1. 1.]  error = 1.0  relres = 0.0\n",
            "eps = 1e-3\n",
            " with pivoting:   x = [1. 1.]  error = 0.9999999999999999  relres = 0.0\n",
            " no pivoting:     x = [1. 1.]  error = 0.9999999999999999  relres = 0.0\n",
            "eps = 1e-4\n",
            " with pivoting:   x = [1. 1.]  error = 1.0  relres = 0.0\n",
            " no pivoting:     x = [1. 1.]  error = 1.0  relres = 0.0\n",
            "eps = 1e-5\n",
            " with pivoting:   x = [1. 1.]  error = 1.0  relres = 0.0\n",
            " no pivoting:     x = [1. 1.]  error = 1.0  relres = 0.0\n",
            "eps = 1e-6\n",
            " with pivoting:   x = [1. 1.]  error = 0.9999999999999999  relres = 0.0\n",
            " no pivoting:     x = [1. 1.]  error = 0.9999999999999999  relres = 0.0\n",
            "eps = 1e-7\n",
            " with pivoting:   x = [1. 1.]  error = 1.0  relres = 0.0\n",
            " no pivoting:     x = [1. 1.]  error = 1.0  relres = 0.0\n",
            "eps = 1e-8\n",
            " with pivoting:   x = [1. 1.]  error = 0.9999999999999999  relres = 0.0\n",
            " no pivoting:     x = [1. 1.]  error = 0.9999999999999999  relres = 0.0\n",
            "eps = 1e-9\n",
            " with pivoting:   x = [1. 1.]  error = 1.0  relres = 0.0\n",
            " no pivoting:     x = [1. 1.]  error = 1.0  relres = 0.0\n",
            "eps = 1e-10\n",
            " with pivoting:   x = [1. 1.]  error = 1.0  relres = 0.0\n",
            " no pivoting:     x = [1. 1.]  error = 1.0  relres = 0.0\n",
            "eps = 1e-11\n",
            " with pivoting:   x = [1. 1.]  error = 1.0  relres = 0.0\n",
            " no pivoting:     x = [1. 1.]  error = 1.0  relres = 0.0\n",
            "eps = 1e-12\n",
            " with pivoting:   x = [1. 1.]  error = 1.0  relres = 0.0\n",
            " no pivoting:     x = [1. 1.]  error = 1.0  relres = 0.0\n",
            "eps = 1e-13\n",
            " with pivoting:   x = [1. 1.]  error = 0.9999999999999999  relres = 0.0\n",
            " no pivoting:     x = [1. 1.]  error = 0.9999999999999999  relres = 0.0\n",
            "eps = 1e-14\n",
            " with pivoting:   x = [1. 1.]  error = 1.0  relres = 0.0\n",
            " no pivoting:     x = [1. 1.]  error = 1.0  relres = 0.0\n",
            "eps = 1e-15\n",
            " with pivoting:   x = [1. 1.]  error = 1.0  relres = 0.0\n",
            " no pivoting:     x = [1. 1.]  error = 1.0  relres = 0.0\n",
            "eps = 1e-16\n",
            " with pivoting:   x = [1. 1.]  error = 0.9999999999999999  relres = 0.0\n",
            " no pivoting:     x = [1. 1.]  error = 0.9999999999999999  relres = 0.0\n"
          ]
        }
      ]
    },
    {
      "cell_type": "code",
      "source": [
        "#3\n",
        "import numpy as np\n",
        "import numpy.linalg as npla\n",
        "import scipy.sparse as sp\n",
        "\n",
        "def GSsolve(A, b, tol=1e-8, max_iters=1000, callback=None):\n",
        "    \"\"\"\n",
        "    Gauss–Seidel for Ax = b. Same behavior as Jsolve/CGsolve:\n",
        "    - x starts at zeros\n",
        "    - rel_res[0] = 1.0\n",
        "    - stops when ||b - A x||/||b|| <= tol or hits max_iters\n",
        "    \"\"\"\n",
        "    # make sure CSR\n",
        "    A = sp.csr_matrix(A)\n",
        "    n = A.shape[0]\n",
        "    x = np.zeros(n, dtype=float)\n",
        "\n",
        "    # precompute diagonal\n",
        "    d = A.diagonal()\n",
        "    if np.any(d == 0):\n",
        "        raise ValueError(\"zero entry on diagonal; GS needs nonzero diag\")\n",
        "\n",
        "    # track relative residuals (like your solvers)\n",
        "    rel_res = [1.0]\n",
        "    bnorm = npla.norm(b)\n",
        "\n",
        "    if callback is not None:\n",
        "        callback(x=x, iteration=0, residual=1.0)\n",
        "\n",
        "    # iterations\n",
        "    for k in range(1, max_iters+1):\n",
        "        # forward sweep (in-place updates)\n",
        "        for i in range(n):\n",
        "            start, end = A.indptr[i], A.indptr[i+1]\n",
        "            row_idx = A.indices[start:end]\n",
        "            row_val = A.data[start:end]\n",
        "\n",
        "            # sum_{j != i} a_ij * x_j   (x_j uses newest values for j<i)\n",
        "            s = 0.0\n",
        "            for jj, aij in zip(row_idx, row_val):\n",
        "                if jj != i:\n",
        "                    s += aij * x[jj]\n",
        "            x[i] = (b[i] - s) / d[i]\n",
        "\n",
        "        # residual and stop\n",
        "        this_rel = npla.norm(b - A @ x) / bnorm\n",
        "        rel_res.append(this_rel)\n",
        "\n",
        "        if callback is not None:\n",
        "            callback(x=x, iteration=k, residual=this_rel)\n",
        "\n",
        "        if this_rel <= tol:\n",
        "            break\n",
        "\n",
        "    return x, rel_res\n"
      ],
      "metadata": {
        "id": "0A4nu4bsD5_Q"
      },
      "execution_count": null,
      "outputs": []
    }
  ]
}